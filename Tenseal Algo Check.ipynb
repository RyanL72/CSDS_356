{
 "cells": [
  {
   "cell_type": "code",
   "execution_count": 4,
   "id": "540c079b-9c5b-453f-9185-e9d8a4b7e7b3",
   "metadata": {},
   "outputs": [
    {
     "name": "stdout",
     "output_type": "stream",
     "text": [
      "Collecting tenseal\n",
      "  Downloading tenseal-0.3.15-cp312-cp312-win_amd64.whl.metadata (8.4 kB)\n",
      "Downloading tenseal-0.3.15-cp312-cp312-win_amd64.whl (2.2 MB)\n",
      "   ---------------------------------------- 0.0/2.2 MB ? eta -:--:--\n",
      "   ------------------- -------------------- 1.0/2.2 MB 10.1 MB/s eta 0:00:01\n",
      "   ---------------------------------------- 2.2/2.2 MB 9.4 MB/s eta 0:00:00\n",
      "Installing collected packages: tenseal\n",
      "Successfully installed tenseal-0.3.15\n"
     ]
    }
   ],
   "source": [
    "!pip install tenseal"
   ]
  },
  {
   "cell_type": "code",
   "execution_count": 2,
   "id": "43c12013-34ad-4d8e-b4fe-3ed8bd7c641a",
   "metadata": {},
   "outputs": [
    {
     "name": "stdout",
     "output_type": "stream",
     "text": [
      "Decrypted Sum: [8]\n",
      "Decrypted Product: [15]\n"
     ]
    }
   ],
   "source": [
    "import tenseal as ts\n",
    "\n",
    "# Create a TenSEAL context with BFV scheme\n",
    "context = ts.context(\n",
    "    scheme=ts.SCHEME_TYPE.BFV,\n",
    "    poly_modulus_degree=8192,\n",
    "    plain_modulus=1032193,\n",
    "    coeff_mod_bit_sizes=[60, 40, 40, 60],\n",
    ")\n",
    "\n",
    "# Generate secret key before making the context public\n",
    "secret_key = context.secret_key()\n",
    "\n",
    "# Enable encryption, decryption, and evaluation keys\n",
    "context.generate_galois_keys()\n",
    "context.generate_relin_keys()\n",
    "context.make_context_public()  # Remove secret key for security\n",
    "\n",
    "# Encrypt two numbers\n",
    "enc_x = ts.bfv_vector(context, [3])\n",
    "enc_y = ts.bfv_vector(context, [5])\n",
    "\n",
    "# Perform encrypted operations\n",
    "enc_add = enc_x + enc_y  # Homomorphic addition\n",
    "enc_mul = enc_x * enc_y  # Homomorphic multiplication\n",
    "\n",
    "# Decrypt results using the secret key\n",
    "print(\"Decrypted Sum:\", enc_add.decrypt(secret_key))  # Should output [8]\n",
    "print(\"Decrypted Product:\", enc_mul.decrypt(secret_key))  # Should output [15]\n"
   ]
  },
  {
   "cell_type": "code",
   "execution_count": 5,
   "id": "b68b41b3-187b-444d-bb6a-200993f37de6",
   "metadata": {},
   "outputs": [
    {
     "name": "stdout",
     "output_type": "stream",
     "text": [
      "Decrypted Sum: [11, 22, 33, 44, 55]\n",
      "Decrypted Product: [10, 40, 90, 160, 250]\n"
     ]
    }
   ],
   "source": [
    "# Encrypt two vectors\n",
    "enc_vec1 = ts.bfv_vector(context, [1, 2, 3, 4, 5])\n",
    "enc_vec2 = ts.bfv_vector(context, [10, 20, 30, 40, 50])\n",
    "\n",
    "# Element-wise encrypted addition and multiplication\n",
    "enc_sum = enc_vec1 + enc_vec2\n",
    "enc_prod = enc_vec1 * enc_vec2\n",
    "\n",
    "# Decrypt and print results\n",
    "print(\"Decrypted Sum:\", enc_sum.decrypt(secret_key))  \n",
    "print(\"Decrypted Product:\", enc_prod.decrypt(secret_key))  \n"
   ]
  },
  {
   "cell_type": "code",
   "execution_count": 8,
   "id": "85c25b91-6072-4ce6-83ae-3beb0ec0f859",
   "metadata": {},
   "outputs": [
    {
     "name": "stdout",
     "output_type": "stream",
     "text": [
      "Decrypted Dot Product: [32]\n"
     ]
    }
   ],
   "source": [
    "# Encrypt vectors\n",
    "enc_vec1 = ts.bfv_vector(context, [1, 2, 3])\n",
    "enc_vec2 = ts.bfv_vector(context, [4, 5, 6])\n",
    "\n",
    "# Compute dot product (sum of element-wise multiplication)\n",
    "enc_dot_product = (enc_vec1 * enc_vec2).sum()\n",
    "\n",
    "# Decrypt and print result\n",
    "print(\"Decrypted Dot Product:\", enc_dot_product.decrypt(secret_key))  # Should output 32\n"
   ]
  },
  {
   "cell_type": "code",
   "execution_count": 10,
   "id": "a0e60873-590a-4ff8-bd70-93e2bf98e389",
   "metadata": {},
   "outputs": [
    {
     "name": "stdout",
     "output_type": "stream",
     "text": [
      "Decrypted Mean Salary: 70000.0\n"
     ]
    }
   ],
   "source": [
    "# Encrypt a dataset (e.g., salaries)\n",
    "enc_data = ts.bfv_vector(context, [50000, 60000, 70000, 80000, 90000])\n",
    "\n",
    "# Compute the encrypted sum\n",
    "enc_sum = enc_data.sum()\n",
    "\n",
    "# Compute encrypted mean (division is not natively supported in BFV, so we use plaintext division)\n",
    "n = len(enc_data.decrypt(secret_key))  # Number of elements\n",
    "mean = enc_sum.decrypt(secret_key)[0] / n\n",
    "\n",
    "print(\"Decrypted Mean Salary:\", mean)  # Should output 70000\n"
   ]
  },
  {
   "cell_type": "code",
   "execution_count": null,
   "id": "7f9e0897-178d-48ab-b2e8-d1c269f1158a",
   "metadata": {},
   "outputs": [],
   "source": []
  }
 ],
 "metadata": {
  "kernelspec": {
   "display_name": "Python [conda env:base] *",
   "language": "python",
   "name": "conda-base-py"
  },
  "language_info": {
   "codemirror_mode": {
    "name": "ipython",
    "version": 3
   },
   "file_extension": ".py",
   "mimetype": "text/x-python",
   "name": "python",
   "nbconvert_exporter": "python",
   "pygments_lexer": "ipython3",
   "version": "3.12.7"
  }
 },
 "nbformat": 4,
 "nbformat_minor": 5
}
