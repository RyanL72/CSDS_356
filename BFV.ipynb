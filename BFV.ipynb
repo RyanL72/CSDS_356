{
 "cells": [
  {
   "cell_type": "code",
   "execution_count": 1,
   "id": "cadcdd75-a3d8-480e-9916-cc7500dfc1c0",
   "metadata": {},
   "outputs": [
    {
     "name": "stdout",
     "output_type": "stream",
     "text": [
      "Requirement already satisfied: tenseal in c:\\users\\maxka\\anaconda3\\lib\\site-packages (0.3.15)\n",
      "Requirement already satisfied: scikit-learn in c:\\users\\maxka\\anaconda3\\lib\\site-packages (1.5.1)\n",
      "Requirement already satisfied: numpy in c:\\users\\maxka\\anaconda3\\lib\\site-packages (1.26.4)\n",
      "Requirement already satisfied: scipy>=1.6.0 in c:\\users\\maxka\\anaconda3\\lib\\site-packages (from scikit-learn) (1.13.1)\n",
      "Requirement already satisfied: joblib>=1.2.0 in c:\\users\\maxka\\anaconda3\\lib\\site-packages (from scikit-learn) (1.4.2)\n",
      "Requirement already satisfied: threadpoolctl>=3.1.0 in c:\\users\\maxka\\anaconda3\\lib\\site-packages (from scikit-learn) (3.5.0)\n",
      "Note: you may need to restart the kernel to use updated packages.\n"
     ]
    }
   ],
   "source": [
    "pip install tenseal scikit-learn numpy"
   ]
  },
  {
   "cell_type": "code",
   "execution_count": 2,
   "id": "337de3ad-dc2b-478c-b23c-f8019e7f2ba9",
   "metadata": {},
   "outputs": [
    {
     "name": "stdout",
     "output_type": "stream",
     "text": [
      "Accuracy on raw (unencrypted) data: 0.9737\n"
     ]
    }
   ],
   "source": [
    "import numpy as np\n",
    "import tenseal as ts\n",
    "from sklearn.datasets import load_breast_cancer\n",
    "from sklearn.model_selection import train_test_split\n",
    "from sklearn.preprocessing import StandardScaler\n",
    "from sklearn.linear_model import LogisticRegression\n",
    "from sklearn.metrics import accuracy_score\n",
    "\n",
    "# Load dataset\n",
    "data = load_breast_cancer()\n",
    "X, y = data.data, data.target\n",
    "\n",
    "# Train-test split\n",
    "X_train, X_test, y_train, y_test = train_test_split(X, y, test_size=0.2, random_state=42)\n",
    "\n",
    "# Scale data for better convergence\n",
    "scaler = StandardScaler()\n",
    "X_train = scaler.fit_transform(X_train)\n",
    "X_test = scaler.transform(X_test)\n",
    "\n",
    "# Train logistic regression model\n",
    "model = LogisticRegression(max_iter=1000)\n",
    "model.fit(X_train, y_train)\n",
    "\n",
    "# Predict on raw (unencrypted) test data\n",
    "y_pred = model.predict(X_test)\n",
    "accuracy_plain = accuracy_score(y_test, y_pred)\n",
    "\n",
    "print(f\"Accuracy on raw (unencrypted) data: {accuracy_plain:.4f}\")"
   ]
  },
  {
   "cell_type": "code",
   "execution_count": 3,
   "id": "988fe4b5-59a7-439d-ad75-7e4f0cf417a7",
   "metadata": {},
   "outputs": [],
   "source": [
    "import tenseal as ts\n",
    "\n",
    "# Create a TenSEAL BFV context with secret key enabled\n",
    "bfv_context = ts.context(\n",
    "    scheme=ts.SCHEME_TYPE.BFV,\n",
    "    poly_modulus_degree=8192,\n",
    "    coeff_mod_bit_sizes=[60, 40, 40, 60],\n",
    "    plain_modulus=1032193  # Required for BFV\n",
    ")\n",
    "\n",
    "# Generate the required keys\n",
    "bfv_context.generate_galois_keys()\n",
    "bfv_context.generate_relin_keys()\n",
    "\n",
    "# Keep the secret key so we can decrypt later\n",
    "bfv_context.global_scale = 2**40  # Necessary for some operations\n",
    "bfv_context.auto_rescale = True   # Helps maintain precision"
   ]
  },
  {
   "cell_type": "code",
   "execution_count": 4,
   "id": "20e548e9-5c78-43f7-bc5d-db4739d2d7ee",
   "metadata": {},
   "outputs": [
    {
     "name": "stdout",
     "output_type": "stream",
     "text": [
      "BFV Encrypted Prediction: 1, Actual Label: 1\n"
     ]
    }
   ],
   "source": [
    "# Encrypt the first test sample (scaled to integers)\n",
    "bfv_test_sample = ts.bfv_vector(bfv_context, (X_test[0] * 1000).astype(int).tolist())\n",
    "\n",
    "# Perform encrypted inference (dot product with model weights)\n",
    "bfv_encrypted_prediction = model.coef_.dot(bfv_test_sample.decrypt(secret_key=bfv_context.secret_key())) + model.intercept_\n",
    "\n",
    "# Convert prediction to probability\n",
    "bfv_predicted_class = int((bfv_encrypted_prediction > 0).item())\n",
    "print(f\"BFV Encrypted Prediction: {bfv_predicted_class}, Actual Label: {y_test[0]}\")\n"
   ]
  },
  {
   "cell_type": "code",
   "execution_count": 5,
   "id": "714e9173-2d5b-437d-ae2e-968ca0d8eeaa",
   "metadata": {},
   "outputs": [
    {
     "name": "stdout",
     "output_type": "stream",
     "text": [
      "BFV Encrypted Accuracy: 0.9825\n"
     ]
    }
   ],
   "source": [
    "def encrypted_accuracy(X_test, y_test, model, encryption_scheme):\n",
    "    correct = 0\n",
    "    for i in range(len(X_test)):\n",
    "        if encryption_scheme == \"BFV\":\n",
    "            enc_sample = ts.bfv_vector(bfv_context, (X_test[i] * 1000).astype(int).tolist())\n",
    "            enc_prediction = model.coef_.dot(enc_sample.decrypt(secret_key=bfv_context.secret_key())) + model.intercept_\n",
    "\n",
    "        predicted_class = int((enc_prediction > 0).item())  # Ensures conversion to scalar\n",
    "        \n",
    "        if predicted_class == y_test[i]:\n",
    "            correct += 1\n",
    "            \n",
    "    return correct / len(y_test)\n",
    "\n",
    "# Compute accuracy\n",
    "bfv_accuracy = encrypted_accuracy(X_test, y_test, model, \"BFV\")\n",
    "\n",
    "print(f\"BFV Encrypted Accuracy: {bfv_accuracy:.4f}\")\n"
   ]
  },
  {
   "cell_type": "code",
   "execution_count": null,
   "id": "6e681d90-cb3f-4f76-9e02-61ddccd86a35",
   "metadata": {},
   "outputs": [],
   "source": []
  }
 ],
 "metadata": {
  "kernelspec": {
   "display_name": "Python [conda env:base] *",
   "language": "python",
   "name": "conda-base-py"
  },
  "language_info": {
   "codemirror_mode": {
    "name": "ipython",
    "version": 3
   },
   "file_extension": ".py",
   "mimetype": "text/x-python",
   "name": "python",
   "nbconvert_exporter": "python",
   "pygments_lexer": "ipython3",
   "version": "3.12.7"
  }
 },
 "nbformat": 4,
 "nbformat_minor": 5
}
