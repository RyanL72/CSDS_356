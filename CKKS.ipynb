{
 "cells": [
  {
   "cell_type": "code",
   "execution_count": 2,
   "id": "4ff7e1e2-1f77-4194-957f-73faf6d16308",
   "metadata": {},
   "outputs": [
    {
     "name": "stdout",
     "output_type": "stream",
     "text": [
      "Requirement already satisfied: tenseal in c:\\users\\maxka\\anaconda3\\lib\\site-packages (0.3.15)\n",
      "Requirement already satisfied: scikit-learn in c:\\users\\maxka\\anaconda3\\lib\\site-packages (1.5.1)\n",
      "Requirement already satisfied: numpy in c:\\users\\maxka\\anaconda3\\lib\\site-packages (1.26.4)\n",
      "Requirement already satisfied: scipy>=1.6.0 in c:\\users\\maxka\\anaconda3\\lib\\site-packages (from scikit-learn) (1.13.1)\n",
      "Requirement already satisfied: joblib>=1.2.0 in c:\\users\\maxka\\anaconda3\\lib\\site-packages (from scikit-learn) (1.4.2)\n",
      "Requirement already satisfied: threadpoolctl>=3.1.0 in c:\\users\\maxka\\anaconda3\\lib\\site-packages (from scikit-learn) (3.5.0)\n",
      "Note: you may need to restart the kernel to use updated packages.\n"
     ]
    }
   ],
   "source": [
    "pip install tenseal scikit-learn numpy"
   ]
  },
  {
   "cell_type": "code",
   "execution_count": 4,
   "id": "ebb62fc2-ca6c-4017-b962-677f50412d13",
   "metadata": {},
   "outputs": [
    {
     "name": "stdout",
     "output_type": "stream",
     "text": [
      "Accuracy on raw (unencrypted) data: 0.9737\n"
     ]
    }
   ],
   "source": [
    "import numpy as np\n",
    "import tenseal as ts\n",
    "from sklearn.datasets import load_breast_cancer\n",
    "from sklearn.model_selection import train_test_split\n",
    "from sklearn.preprocessing import StandardScaler\n",
    "from sklearn.linear_model import LogisticRegression\n",
    "from sklearn.metrics import accuracy_score\n",
    "\n",
    "# Load dataset\n",
    "data = load_breast_cancer()\n",
    "X, y = data.data, data.target\n",
    "\n",
    "# Train-test split\n",
    "X_train, X_test, y_train, y_test = train_test_split(X, y, test_size=0.2, random_state=42)\n",
    "\n",
    "# Scale data for better convergence\n",
    "scaler = StandardScaler()\n",
    "X_train = scaler.fit_transform(X_train)\n",
    "X_test = scaler.transform(X_test)\n",
    "\n",
    "# Train logistic regression model\n",
    "model = LogisticRegression(max_iter=1000)\n",
    "model.fit(X_train, y_train)\n",
    "\n",
    "# Predict on raw (unencrypted) test data\n",
    "y_pred = model.predict(X_test)\n",
    "accuracy_plain = accuracy_score(y_test, y_pred)\n",
    "\n",
    "print(f\"Accuracy on raw (unencrypted) data: {accuracy_plain:.4f}\")\n"
   ]
  },
  {
   "cell_type": "code",
   "execution_count": 6,
   "id": "a1cebf7b-87c2-4aef-bd64-83c210a8f9e2",
   "metadata": {},
   "outputs": [],
   "source": [
    "import tenseal as ts\n",
    "\n",
    "# Ensure the CKKS context is correctly initialized without the 'enable' argument\n",
    "ckks_context = ts.context(\n",
    "    scheme=ts.SCHEME_TYPE.CKKS,\n",
    "    poly_modulus_degree=8192,\n",
    "    coeff_mod_bit_sizes=[60, 40, 40, 60]\n",
    ")\n",
    "\n",
    "# Check if secret key is automatically generated or needs to be manually set\n",
    "if not ckks_context.has_secret_key():\n",
    "    ckks_context.generate_secret_key()\n",
    "\n",
    "ckks_context.generate_galois_keys()\n",
    "ckks_context.generate_relin_keys()\n",
    "\n",
    "# Set scale after context is created\n",
    "ckks_context.scale = 2**40  # Setting scale value\n"
   ]
  },
  {
   "cell_type": "code",
   "execution_count": 8,
   "id": "cf0f8fb0-ce70-4811-962e-e6d18e3289ac",
   "metadata": {},
   "outputs": [
    {
     "name": "stdout",
     "output_type": "stream",
     "text": [
      "CKKS Encrypted Accuracy: 0.9737\n"
     ]
    }
   ],
   "source": [
    "def encrypted_accuracy(X_test, y_test, model, encryption_scheme):\n",
    "    correct = 0\n",
    "    for i in range(len(X_test)):\n",
    "        if encryption_scheme == \"CKKS\":\n",
    "            # Ensure scale is correctly set\n",
    "            enc_sample = ts.ckks_vector(ckks_context, X_test[i].tolist(), scale=2**40)\n",
    "            enc_prediction = model.coef_.dot(enc_sample.decrypt(secret_key=ckks_context.secret_key())) + model.intercept_\n",
    "\n",
    "        predicted_class = int((enc_prediction > 0).item())  # Ensures conversion to scalar\n",
    "        \n",
    "        if predicted_class == y_test[i]:\n",
    "            correct += 1\n",
    "            \n",
    "    return correct / len(y_test)\n",
    "\n",
    "# Compute accuracy\n",
    "ckks_accuracy = encrypted_accuracy(X_test, y_test, model, \"CKKS\")\n",
    "\n",
    "print(f\"CKKS Encrypted Accuracy: {ckks_accuracy:.4f}\")\n"
   ]
  },
  {
   "cell_type": "code",
   "execution_count": null,
   "id": "da6c30b6-4622-412e-8633-eed5cf879deb",
   "metadata": {},
   "outputs": [],
   "source": []
  }
 ],
 "metadata": {
  "kernelspec": {
   "display_name": "Python [conda env:base] *",
   "language": "python",
   "name": "conda-base-py"
  },
  "language_info": {
   "codemirror_mode": {
    "name": "ipython",
    "version": 3
   },
   "file_extension": ".py",
   "mimetype": "text/x-python",
   "name": "python",
   "nbconvert_exporter": "python",
   "pygments_lexer": "ipython3",
   "version": "3.12.7"
  }
 },
 "nbformat": 4,
 "nbformat_minor": 5
}
